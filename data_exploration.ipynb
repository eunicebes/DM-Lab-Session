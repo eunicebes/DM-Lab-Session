{
 "cells": [
  {
   "cell_type": "code",
   "execution_count": 82,
   "metadata": {
    "collapsed": true
   },
   "outputs": [],
   "source": [
    "import os\n",
    "import codecs\n",
    "import pandas as pd"
   ]
  },
  {
   "cell_type": "code",
   "execution_count": 128,
   "metadata": {
    "scrolled": false
   },
   "outputs": [],
   "source": [
    "admission_files = [filename for filename in os.listdir(\"data/Admission_note\") if filename.endswith(\".txt\")]\n",
    "admission_notes = []\n",
    "for file in admission_files:\n",
    "    patient_id = ''.join([w for w in file][14:17])\n",
    "    index_1 = [w for w in file].index('(')\n",
    "    index_2 = [w for w in file].index(')')\n",
    "    disease_type = ''.join([w for w in file][index_1+1:index_2])\n",
    "    with open('data/Admission_note/'+file, 'r', encoding='big5') as data:\n",
    "        medical_records = data.readlines()\n",
    "        chief_index = [i for i, record in enumerate(medical_records) if \"Chief Complaint\" in record]\n",
    "        present_index = [i for i, record in enumerate(medical_records) if \"Present Illness\" in record]\n",
    "        past_index = [i for i, record in enumerate(medical_records) if \"Past History\" in record]\n",
    "        personal_index = [i for i, record in enumerate(medical_records) if \"Personal History\" in record]\n",
    "        chief_complaint = ''.join(medical_records[chief_index[0]+2:present_index[0]])\n",
    "        present_illness = ''.join(medical_records[present_index[0]+2:past_index[0]])\n",
    "        past_history = ''.join(medical_records[past_index[0]+2:personal_index[0]])\n",
    "        admission_notes.append([patient_id, disease_type, chief_complaint, present_illness, past_history])"
   ]
  },
  {
   "cell_type": "code",
   "execution_count": 129,
   "metadata": {},
   "outputs": [],
   "source": [
    "admission_pd = pd.DataFrame(admission_notes, columns=[\"patient_id\", \"type\", \"chief_complaint\", \"present_illness\", \n",
    "                                                      \"past_history\"])"
   ]
  },
  {
   "cell_type": "code",
   "execution_count": 130,
   "metadata": {},
   "outputs": [
    {
     "data": {
      "text/html": [
       "<div>\n",
       "<table border=\"1\" class=\"dataframe\">\n",
       "  <thead>\n",
       "    <tr style=\"text-align: right;\">\n",
       "      <th></th>\n",
       "      <th>patient_id</th>\n",
       "      <th>type</th>\n",
       "      <th>chief_complaint</th>\n",
       "      <th>present_illness</th>\n",
       "      <th>past_history</th>\n",
       "    </tr>\n",
       "  </thead>\n",
       "  <tbody>\n",
       "    <tr>\n",
       "      <th>0</th>\n",
       "      <td>032</td>\n",
       "      <td>CRF</td>\n",
       "      <td>admission for removing tracheastomy\\n\\n</td>\n",
       "      <td>The 63 year-old male widowed patient has u...</td>\n",
       "      <td>1.Coronary artery disease with ischemnic cardi...</td>\n",
       "    </tr>\n",
       "    <tr>\n",
       "      <th>1</th>\n",
       "      <td>022</td>\n",
       "      <td>CHF</td>\n",
       "      <td>Admitted for pre-operation survey\\n\\n</td>\n",
       "      <td>This 51 y/o male patient was a case of:\\n1...</td>\n",
       "      <td>1.Congestive heart failure, CAD related\\n2.Cor...</td>\n",
       "    </tr>\n",
       "    <tr>\n",
       "      <th>2</th>\n",
       "      <td>023</td>\n",
       "      <td>CHF</td>\n",
       "      <td>progressive productive cough for 1 week\\n\\n</td>\n",
       "      <td>This 43 year-old man was a case of 1.Acut...</td>\n",
       "      <td>1.Acute heart failure with cardiogenic shock,...</td>\n",
       "    </tr>\n",
       "    <tr>\n",
       "      <th>3</th>\n",
       "      <td>021</td>\n",
       "      <td>AMI</td>\n",
       "      <td>dizziness noted for 1 week\\n\\n</td>\n",
       "      <td>This 71 years old man was a case of \\n1.DM...</td>\n",
       "      <td>DM with OHA  and HTN under medical control for...</td>\n",
       "    </tr>\n",
       "    <tr>\n",
       "      <th>4</th>\n",
       "      <td>003</td>\n",
       "      <td>AMI</td>\n",
       "      <td>persistent chest pain for 6 hours\\n\\n</td>\n",
       "      <td>This 45 y/o male suffered from chest pain brie...</td>\n",
       "      <td>face burn for &gt;10 years\\nhyperuremia\\nDM: deni...</td>\n",
       "    </tr>\n",
       "  </tbody>\n",
       "</table>\n",
       "</div>"
      ],
      "text/plain": [
       "  patient_id type                               chief_complaint  \\\n",
       "0        032  CRF       admission for removing tracheastomy\\n\\n   \n",
       "1        022  CHF         Admitted for pre-operation survey\\n\\n   \n",
       "2        023  CHF   progressive productive cough for 1 week\\n\\n   \n",
       "3        021  AMI                dizziness noted for 1 week\\n\\n   \n",
       "4        003  AMI         persistent chest pain for 6 hours\\n\\n   \n",
       "\n",
       "                                     present_illness  \\\n",
       "0      The 63 year-old male widowed patient has u...   \n",
       "1      This 51 y/o male patient was a case of:\\n1...   \n",
       "2       This 43 year-old man was a case of 1.Acut...   \n",
       "3      This 71 years old man was a case of \\n1.DM...   \n",
       "4  This 45 y/o male suffered from chest pain brie...   \n",
       "\n",
       "                                        past_history  \n",
       "0  1.Coronary artery disease with ischemnic cardi...  \n",
       "1  1.Congestive heart failure, CAD related\\n2.Cor...  \n",
       "2   1.Acute heart failure with cardiogenic shock,...  \n",
       "3  DM with OHA  and HTN under medical control for...  \n",
       "4  face burn for >10 years\\nhyperuremia\\nDM: deni...  "
      ]
     },
     "execution_count": 130,
     "metadata": {},
     "output_type": "execute_result"
    }
   ],
   "source": [
    "admission_pd.head()"
   ]
  },
  {
   "cell_type": "code",
   "execution_count": 138,
   "metadata": {
    "scrolled": false
   },
   "outputs": [],
   "source": [
    "discharge_files = [filename for filename in os.listdir(\"data/Discharge_summary\") if filename.endswith(\".txt\")]\n",
    "discharge_summary = []\n",
    "for file in discharge_files:\n",
    "    patient_id = ''.join([w for w in file][17:20])\n",
    "    with open('data/Discharge_summary/'+file, 'r', encoding='big5') as data:\n",
    "        medical_records = data.readlines()\n",
    "        ad_index = [i for i, record in enumerate(medical_records) if \"Diagnosis on Admission\" in record]\n",
    "        dis_index = [i for i, record in enumerate(medical_records) if \"Diagnosis on Discharge\" in record]\n",
    "        chief_index = [i for i, record in enumerate(medical_records) if \"Chief Complaint\" in record]\n",
    "        physical_index = [i for i, record in enumerate(medical_records) if \"Physical Findings\" in record]\n",
    "        laboratory_index = [i for i, record in enumerate(medical_records) if \"Laboratory Examinations\" in record]\n",
    "        admission_diagnosis = ''.join(medical_records[ad_index[0]+2:dis_index[0]])\n",
    "        discharge_diagnosis = ''.join(medical_records[dis_index[0]+2:chief_index[0]])\n",
    "        physical_findings = ''.join(medical_records[physical_index[0]+2:laboratory_index[0]])\n",
    "        discharge_summary.append([patient_id, admission_diagnosis, discharge_diagnosis, physical_findings])"
   ]
  },
  {
   "cell_type": "code",
   "execution_count": 140,
   "metadata": {},
   "outputs": [],
   "source": [
    "discharge_pd = pd.DataFrame(discharge_summary, columns=[\"patient_id\", \"admission_diagnosis\", \"discharge_diagnosis\", \n",
    "                                                      \"physical_findings\"])"
   ]
  },
  {
   "cell_type": "code",
   "execution_count": 143,
   "metadata": {},
   "outputs": [
    {
     "data": {
      "text/html": [
       "<div>\n",
       "<table border=\"1\" class=\"dataframe\">\n",
       "  <thead>\n",
       "    <tr style=\"text-align: right;\">\n",
       "      <th></th>\n",
       "      <th>patient_id</th>\n",
       "      <th>admission_diagnosis</th>\n",
       "      <th>discharge_diagnosis</th>\n",
       "      <th>physical_findings</th>\n",
       "    </tr>\n",
       "  </thead>\n",
       "  <tbody>\n",
       "    <tr>\n",
       "      <th>0</th>\n",
       "      <td>009</td>\n",
       "      <td>1.congestive heart failure\\n2.hyperkalemia\\n3....</td>\n",
       "      <td>\\n1.Congestive heart failure\\n2.Hyperkalemia\\n...</td>\n",
       "      <td>身高:165CM (20110206)  體重:68KG (20110206)\\nGener...</td>\n",
       "    </tr>\n",
       "    <tr>\n",
       "      <th>1</th>\n",
       "      <td>021</td>\n",
       "      <td>1. suspect recent NSTEMI                      ...</td>\n",
       "      <td>\\n1.Congestive heart failure, ischemic heart-r...</td>\n",
       "      <td>體重:57KG (20070209)\\nGeneral: ill looking\\n  Co...</td>\n",
       "    </tr>\n",
       "    <tr>\n",
       "      <th>2</th>\n",
       "      <td>008</td>\n",
       "      <td>1.Chest pain, suspect of unstable angina\\n2.Cr...</td>\n",
       "      <td>1.Unstable angina\\n2.Cronary Artery Disease, t...</td>\n",
       "      <td>Patient has no evidence of pain NOW.\\nGENERAL ...</td>\n",
       "    </tr>\n",
       "    <tr>\n",
       "      <th>3</th>\n",
       "      <td>020</td>\n",
       "      <td>1.Angina Pectoris, suspect ischemia related\\n2...</td>\n",
       "      <td>\\n1. Coronary artery disease, triple vessels\\n...</td>\n",
       "      <td>身高:164.4CM (20110819)  體重:77.7KG (20110819)\\nB...</td>\n",
       "    </tr>\n",
       "    <tr>\n",
       "      <th>4</th>\n",
       "      <td>022</td>\n",
       "      <td>1.Congestive heart failure, CAD related,FcII, ...</td>\n",
       "      <td>\\n1.Congestive heart failure, CAD related,FcII...</td>\n",
       "      <td>身高:164CM (20080505)  體重:60KG (20080505)\\nGENER...</td>\n",
       "    </tr>\n",
       "  </tbody>\n",
       "</table>\n",
       "</div>"
      ],
      "text/plain": [
       "  patient_id                                admission_diagnosis  \\\n",
       "0        009  1.congestive heart failure\\n2.hyperkalemia\\n3....   \n",
       "1        021  1. suspect recent NSTEMI                      ...   \n",
       "2        008  1.Chest pain, suspect of unstable angina\\n2.Cr...   \n",
       "3        020  1.Angina Pectoris, suspect ischemia related\\n2...   \n",
       "4        022  1.Congestive heart failure, CAD related,FcII, ...   \n",
       "\n",
       "                                 discharge_diagnosis  \\\n",
       "0  \\n1.Congestive heart failure\\n2.Hyperkalemia\\n...   \n",
       "1  \\n1.Congestive heart failure, ischemic heart-r...   \n",
       "2  1.Unstable angina\\n2.Cronary Artery Disease, t...   \n",
       "3  \\n1. Coronary artery disease, triple vessels\\n...   \n",
       "4  \\n1.Congestive heart failure, CAD related,FcII...   \n",
       "\n",
       "                                   physical_findings  \n",
       "0  身高:165CM (20110206)  體重:68KG (20110206)\\nGener...  \n",
       "1  體重:57KG (20070209)\\nGeneral: ill looking\\n  Co...  \n",
       "2  Patient has no evidence of pain NOW.\\nGENERAL ...  \n",
       "3  身高:164.4CM (20110819)  體重:77.7KG (20110819)\\nB...  \n",
       "4  身高:164CM (20080505)  體重:60KG (20080505)\\nGENER...  "
      ]
     },
     "execution_count": 143,
     "metadata": {},
     "output_type": "execute_result"
    }
   ],
   "source": [
    "discharge_pd.head()"
   ]
  },
  {
   "cell_type": "code",
   "execution_count": null,
   "metadata": {
    "collapsed": true
   },
   "outputs": [],
   "source": []
  }
 ],
 "metadata": {
  "kernelspec": {
   "display_name": "Python 3",
   "language": "python",
   "name": "python3"
  },
  "language_info": {
   "codemirror_mode": {
    "name": "ipython",
    "version": 3
   },
   "file_extension": ".py",
   "mimetype": "text/x-python",
   "name": "python",
   "nbconvert_exporter": "python",
   "pygments_lexer": "ipython3",
   "version": "3.6.1"
  }
 },
 "nbformat": 4,
 "nbformat_minor": 2
}
